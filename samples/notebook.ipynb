{
 "cells": [
  {
   "cell_type": "markdown",
   "metadata": {},
   "source": [
    "# Machine Learning Tutorial\n",
    "\n",
    "This notebook demonstrates how to build a simple neural network using Python and popular machine learning libraries.\n",
    "\n",
    "## Prerequisites\n",
    "\n",
    "Before starting, make sure you have the following libraries installed:\n",
    "- numpy\n",
    "- pandas\n",
    "- scikit-learn\n",
    "- matplotlib"
   ]
  },
  {
   "cell_type": "code",
   "execution_count": null,
   "metadata": {},
   "outputs": [],
   "source": [
    "import numpy as np\n",
    "import pandas as pd\n",
    "from sklearn.model_selection import train_test_split\n",
    "from sklearn.neural_network import MLPClassifier\n",
    "import matplotlib.pyplot as plt\n",
    "\n",
    "# Set random seed for reproducibility\n",
    "np.random.seed(42)"
   ]
  },
  {
   "cell_type": "markdown",
   "metadata": {},
   "source": [
    "## Data Preparation\n",
    "\n",
    "Let's create some sample data for our machine learning model. We'll generate a simple dataset with two features.\n",
    "\n",
    "```python\n",
    "def generate_data(n_samples=1000):\n",
    "    \"\"\"Generate sample data for training\"\"\"\n",
    "    # Create random features\n",
    "    X = np.random.randn(n_samples, 2)\n",
    "    # Create labels based on a simple rule\n",
    "    y = (X[:, 0] + X[:, 1] > 0).astype(int)\n",
    "    return X, y\n",
    "```\n",
    "\n",
    "The function above creates a binary classification problem where the label depends on the sum of the two features."
   ]
  },
  {
   "cell_type": "code",
   "execution_count": null,
   "metadata": {},
   "outputs": [],
   "source": [
    "def generate_data(n_samples=1000):\n",
    "    \"\"\"Generate sample data for training\"\"\"\n",
    "    # Create random features\n",
    "    X = np.random.randn(n_samples, 2)\n",
    "    # Create labels based on a simple rule\n",
    "    y = (X[:, 0] + X[:, 1] > 0).astype(int)\n",
    "    return X, y\n",
    "\n",
    "# Generate training data\n",
    "X, y = generate_data(1000)\n",
    "print(f\"Data shape: {X.shape}\")\n",
    "print(f\"Labels shape: {y.shape}\")"
   ]
  },
  {
   "cell_type": "markdown",
   "metadata": {},
   "source": [
    "## Model Training\n",
    "\n",
    "Now we'll train a simple neural network using scikit-learn's MLPClassifier. This is a multi-layer perceptron that can learn non-linear patterns in the data.\n",
    "\n",
    "### Key Parameters:\n",
    "- `hidden_layer_sizes`: The number of neurons in each hidden layer\n",
    "- `max_iter`: Maximum number of iterations for training\n",
    "- `random_state`: Random seed for reproducible results"
   ]
  },
  {
   "cell_type": "code",
   "execution_count": null,
   "metadata": {},
   "outputs": [],
   "source": [
    "# Split the data into training and testing sets\n",
    "X_train, X_test, y_train, y_test = train_test_split(X, y, test_size=0.2, random_state=42)\n",
    "\n",
    "# Create and train the neural network\n",
    "model = MLPClassifier(\n",
    "    hidden_layer_sizes=(10, 5),  # Two hidden layers with 10 and 5 neurons\n",
    "    max_iter=1000,               # Maximum iterations\n",
    "    random_state=42              # For reproducible results\n",
    ")\n",
    "\n",
    "# Train the model\n",
    "model.fit(X_train, y_train)\n",
    "print(\"Model training completed!\")"
   ]
  },
  {
   "cell_type": "markdown",
   "metadata": {},
   "source": [
    "## Model Evaluation\n",
    "\n",
    "Let's evaluate our trained model and see how well it performs on the test data."
   ]
  },
  {
   "cell_type": "code",
   "execution_count": null,
   "metadata": {},
   "outputs": [],
   "source": [
    "# Make predictions on the test set\n",
    "y_pred = model.predict(X_test)\n",
    "\n",
    "# Calculate accuracy\n",
    "accuracy = model.score(X_test, y_test)\n",
    "print(f\"Model accuracy: {accuracy:.3f}\")\n",
    "\n",
    "# Show some example predictions\n",
    "print(\"\\nSample predictions:\")\n",
    "for i in range(5):\n",
    "    print(f\"Features: {X_test[i]}, Predicted: {y_pred[i]}, Actual: {y_test[i]}\")"
   ]
  },
  {
   "cell_type": "markdown",
   "metadata": {},
   "source": [
    "## Visualization\n",
    "\n",
    "Finally, let's create a visualization to better understand our model's decision boundary."
   ]
  },
  {
   "cell_type": "code",
   "execution_count": null,
   "metadata": {},
   "outputs": [],
   "source": [
    "# Create a mesh for plotting decision boundary\n",
    "h = 0.02  # Step size in the mesh\n",
    "x_min, x_max = X[:, 0].min() - 1, X[:, 0].max() + 1\n",
    "y_min, y_max = X[:, 1].min() - 1, X[:, 1].max() + 1\n",
    "xx, yy = np.meshgrid(np.arange(x_min, x_max, h),\n",
    "                     np.arange(y_min, y_max, h))\n",
    "\n",
    "# Make predictions on the mesh\n",
    "Z = model.predict(np.c_[xx.ravel(), yy.ravel()])\n",
    "Z = Z.reshape(xx.shape)\n",
    "\n",
    "# Create the plot\n",
    "plt.figure(figsize=(10, 8))\n",
    "plt.contourf(xx, yy, Z, alpha=0.8, cmap=plt.cm.RdYlBu)\n",
    "scatter = plt.scatter(X[:, 0], X[:, 1], c=y, cmap=plt.cm.RdYlBu, edgecolors='black')\n",
    "plt.colorbar(scatter)\n",
    "plt.xlabel('Feature 1')\n",
    "plt.ylabel('Feature 2')\n",
    "plt.title('Neural Network Decision Boundary')\n",
    "plt.show()"
   ]
  },
  {
   "cell_type": "markdown",
   "metadata": {},
   "source": [
    "## Conclusion\n",
    "\n",
    "In this tutorial, we've successfully:\n",
    "\n",
    "1. **Generated synthetic data** for a binary classification problem\n",
    "2. **Trained a neural network** using scikit-learn's MLPClassifier\n",
    "3. **Evaluated the model** performance on test data\n",
    "4. **Visualized the decision boundary** to understand how the model makes predictions\n",
    "\n",
    "This is a basic example, but the same principles apply to more complex machine learning problems. You can experiment with:\n",
    "- Different network architectures (more layers, different sizes)\n",
    "- Different activation functions\n",
    "- Real-world datasets\n",
    "- More sophisticated evaluation metrics\n",
    "\n",
    "Happy learning!"
   ]
  }
 ],
 "metadata": {
  "kernelspec": {
   "display_name": "Python 3",
   "language": "python",
   "name": "python3"
  },
  "language_info": {
   "codemirror_mode": {
    "name": "ipython",
    "version": 3
   },
   "file_extension": ".py",
   "mimetype": "text/x-python",
   "name": "python",
   "nbconvert_exporter": "python",
   "pygments_lexer": "ipython3",
   "version": "3.8.5"
  }
 },
 "nbformat": 4,
 "nbformat_minor": 4
}
